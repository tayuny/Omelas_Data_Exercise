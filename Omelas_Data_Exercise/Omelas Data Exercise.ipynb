{
 "cells": [
  {
   "cell_type": "code",
   "execution_count": 1,
   "metadata": {},
   "outputs": [],
   "source": [
    "import pandas as pd\n",
    "import numpy as np\n",
    "import re"
   ]
  },
  {
   "cell_type": "code",
   "execution_count": 2,
   "metadata": {},
   "outputs": [],
   "source": [
    "data = pd.read_csv(\"gtd_4.1.17-5.14.17.csv\")"
   ]
  },
  {
   "cell_type": "code",
   "execution_count": 3,
   "metadata": {},
   "outputs": [
    {
     "data": {
      "text/plain": [
       "Index(['event_id', 'event_date', 'country', 'region', 'provstate', 'summary',\n",
       "       'weapdetail', 'source'],\n",
       "      dtype='object')"
      ]
     },
     "execution_count": 3,
     "metadata": {},
     "output_type": "execute_result"
    }
   ],
   "source": [
    "data.columns"
   ]
  },
  {
   "cell_type": "markdown",
   "metadata": {},
   "source": [
    "1. Comparison of Occurance in Regions\n",
    "\n",
    "According to the data of Global Terrorism Database between April 1, 2017 and May 14, 2017. We can first discover that regions like Middle East & North African, South Asia, Sub-Saharan African, and South East Asia contains the highest frequencies among all regions in occurances of terrorist attacks. With the country level, we can discover that Iraq, Afghanistan, India, and Somalia have the highest frequencies among other countries."
   ]
  },
  {
   "cell_type": "code",
   "execution_count": 4,
   "metadata": {},
   "outputs": [
    {
     "data": {
      "text/plain": [
       "region\n",
       "Middle East & North Africa     406\n",
       "South Asia                     384\n",
       "Sub-Saharan Africa             235\n",
       "Southeast Asia                 156\n",
       "Western Europe                  26\n",
       "South America                   20\n",
       "Eastern Europe                  16\n",
       "North America                   10\n",
       "Central America & Caribbean      1\n",
       "Australasia & Oceania            1\n",
       "dtype: int64"
      ]
     },
     "execution_count": 4,
     "metadata": {},
     "output_type": "execute_result"
    }
   ],
   "source": [
    "data.groupby(\"region\").size().sort_values(ascending=False)"
   ]
  },
  {
   "cell_type": "code",
   "execution_count": 5,
   "metadata": {},
   "outputs": [
    {
     "data": {
      "text/plain": [
       "country\n",
       "Iraq           270\n",
       "Afghanistan    140\n",
       "India          109\n",
       "Somalia         90\n",
       "Pakistan        85\n",
       "Thailand        76\n",
       "Philippines     73\n",
       "Nigeria         52\n",
       "Nepal           41\n",
       "Egypt           30\n",
       "dtype: int64"
      ]
     },
     "execution_count": 5,
     "metadata": {},
     "output_type": "execute_result"
    }
   ],
   "source": [
    "data.groupby(\"country\").size().sort_values(ascending=False)[:10]"
   ]
  },
  {
   "cell_type": "markdown",
   "metadata": {},
   "source": [
    "If We go deeper to the division of the region in Iraq, Afghanistan and India, we may observe that that the distributions of occurances in Iraq and India are concentrating in specific regions, which may be related to specific characteristics of these regions. In comparison, the the occurances are wide spreaded in Afghanistan, which means that terrorist events may rely on features in the country level that are reletively identical in regions."
   ]
  },
  {
   "cell_type": "code",
   "execution_count": 6,
   "metadata": {},
   "outputs": [
    {
     "data": {
      "text/plain": [
       "provstate\n",
       "Nineveh     108\n",
       "Diyala       41\n",
       "Al Anbar     37\n",
       "Baghdad      34\n",
       "Saladin      31\n",
       "dtype: int64"
      ]
     },
     "execution_count": 6,
     "metadata": {},
     "output_type": "execute_result"
    }
   ],
   "source": [
    "data[data[\"country\"] == \"Iraq\"].groupby(\"provstate\").size().sort_values(ascending=False)[:5]"
   ]
  },
  {
   "cell_type": "code",
   "execution_count": 7,
   "metadata": {},
   "outputs": [
    {
     "data": {
      "text/plain": [
       "<matplotlib.axes._subplots.AxesSubplot at 0x136ded2e940>"
      ]
     },
     "execution_count": 7,
     "metadata": {},
     "output_type": "execute_result"
    }
   ],
   "source": [
    "data[data[\"country\"] == \"Iraq\"].groupby(\"provstate\").size().sort_values(ascending=False).hist()"
   ]
  },
  {
   "cell_type": "code",
   "execution_count": 8,
   "metadata": {},
   "outputs": [
    {
     "data": {
      "text/plain": [
       "provstate\n",
       "Nangarhar    19\n",
       "Kabul        19\n",
       "Kandahar     13\n",
       "Jawzjan      10\n",
       "Takhar        7\n",
       "dtype: int64"
      ]
     },
     "execution_count": 8,
     "metadata": {},
     "output_type": "execute_result"
    }
   ],
   "source": [
    "data[data[\"country\"] == \"Afghanistan\"].groupby(\"provstate\").size().sort_values(ascending=False)[:5]"
   ]
  },
  {
   "cell_type": "code",
   "execution_count": 9,
   "metadata": {},
   "outputs": [
    {
     "data": {
      "text/plain": [
       "<matplotlib.axes._subplots.AxesSubplot at 0x136df2196d8>"
      ]
     },
     "execution_count": 9,
     "metadata": {},
     "output_type": "execute_result"
    },
    {
     "data": {
      "image/png": "[encoded data removed]",
      "text/plain": [
       "<Figure size 432x288 with 1 Axes>"
      ]
     },
     "metadata": {},
     "output_type": "display_data"
    }
   ],
   "source": [
    "data[data[\"country\"] == \"Afghanistan\"].groupby(\"provstate\").size().sort_values(ascending=False).hist()"
   ]
  },
  {
   "cell_type": "code",
   "execution_count": 10,
   "metadata": {},
   "outputs": [
    {
     "data": {
      "text/plain": [
       "provstate\n",
       "Jammu and Kashmir    47\n",
       "Chhattisgarh         18\n",
       "Jharkhand             8\n",
       "Manipur               6\n",
       "Bihar                 6\n",
       "dtype: int64"
      ]
     },
     "execution_count": 10,
     "metadata": {},
     "output_type": "execute_result"
    }
   ],
   "source": [
    "data[data[\"country\"] == \"India\"].groupby(\"provstate\").size().sort_values(ascending=False)[:5]"
   ]
  },
  {
   "cell_type": "code",
   "execution_count": 11,
   "metadata": {},
   "outputs": [
    {
     "data": {
      "text/plain": [
       "<matplotlib.axes._subplots.AxesSubplot at 0x136df1dcc50>"
      ]
     },
     "execution_count": 11,
     "metadata": {},
     "output_type": "execute_result"
    },
    {
     "data": {
      "image/png": "[encoded data removed]",
      "text/plain": [
       "<Figure size 432x288 with 1 Axes>"
      ]
     },
     "metadata": {},
     "output_type": "display_data"
    }
   ],
   "source": [
    "data[data[\"country\"] == \"India\"].groupby(\"provstate\").size().sort_values(ascending=False).hist()"
   ]
  },
  {
   "cell_type": "markdown",
   "metadata": {},
   "source": [
    "2. Comparision of the Types\n",
    "\n",
    "From the summary, we are able to find the indicator for the types of occurances. We can then discover that there are 484 out of 1255 events happening within this one and half months are related to \"explosive\", which may be categorized as severe and influential events"
   ]
  },
  {
   "cell_type": "code",
   "execution_count": 12,
   "metadata": {},
   "outputs": [],
   "source": [
    "data[\"explosive_dummy\"] = data.apply(lambda x: 1 if re.findall(\"(explosive)\", x[\"summary\"]) != [] else 0, axis=1)"
   ]
  },
  {
   "cell_type": "code",
   "execution_count": 13,
   "metadata": {
    "scrolled": true
   },
   "outputs": [
    {
     "data": {
      "text/plain": [
       "explosive_dummy\n",
       "0    771\n",
       "1    484\n",
       "dtype: int64"
      ]
     },
     "execution_count": 13,
     "metadata": {},
     "output_type": "execute_result"
    }
   ],
   "source": [
    "data.groupby(\"explosive_dummy\").size()"
   ]
  },
  {
   "cell_type": "markdown",
   "metadata": {},
   "source": [
    "If we go deeper into the information in this indicator of explosive, we can observe the distribution of explosive events between countries. We can discover that Iraq and Afghanistan are the countries with highest frequencies of both total occurance and explosive events. However, as we see the third country on the list, Tailand may have improportion higher occurances in explosive events comparing to other countries since it rank 6 in the total occurances."
   ]
  },
  {
   "cell_type": "code",
   "execution_count": 14,
   "metadata": {},
   "outputs": [
    {
     "data": {
      "text/plain": [
       "country      explosive_dummy\n",
       "Iraq         1                  164\n",
       "Afghanistan  1                   49\n",
       "Thailand     1                   48\n",
       "Pakistan     1                   38\n",
       "Somalia      1                   32\n",
       "Nepal        1                   30\n",
       "India        1                   25\n",
       "Philippines  1                   22\n",
       "Turkey       1                   12\n",
       "Libya        1                   11\n",
       "dtype: int64"
      ]
     },
     "execution_count": 14,
     "metadata": {},
     "output_type": "execute_result"
    }
   ],
   "source": [
    "data[data[\"explosive_dummy\"]==1].groupby([\"country\", \"explosive_dummy\"]).size().sort_values(ascending=False)[:10]"
   ]
  },
  {
   "cell_type": "code",
   "execution_count": 15,
   "metadata": {},
   "outputs": [],
   "source": [
    "explosive_count = data[data[\"explosive_dummy\"]==1].groupby([\"country\", \"explosive_dummy\"]).size().sort_values(ascending=False)\\\n",
    "                                 .to_frame().reset_index().rename(columns={0:\"explosive_count\"})\n",
    "total_count = data.groupby(\"country\").size().to_frame().reset_index().rename(columns={0:\"total_count\"})\n",
    "full_count = pd.merge(explosive_count, total_count, left_on=\"country\", right_on=\"country\")"
   ]
  },
  {
   "cell_type": "code",
   "execution_count": 16,
   "metadata": {},
   "outputs": [
    {
     "data": {
      "text/html": [
       "<div>\n",
       "<style scoped>\n",
       "    .dataframe tbody tr th:only-of-type {\n",
       "        vertical-align: middle;\n",
       "    }\n",
       "\n",
       "    .dataframe tbody tr th {\n",
       "        vertical-align: top;\n",
       "    }\n",
       "\n",
       "    .dataframe thead th {\n",
       "        text-align: right;\n",
       "    }\n",
       "</style>\n",
       "<table border=\"1\" class=\"dataframe\">\n",
       "  <thead>\n",
       "    <tr style=\"text-align: right;\">\n",
       "      <th></th>\n",
       "      <th>country</th>\n",
       "      <th>explosive_dummy</th>\n",
       "      <th>explosive_count</th>\n",
       "      <th>total_count</th>\n",
       "      <th>explosive / total</th>\n",
       "    </tr>\n",
       "  </thead>\n",
       "  <tbody>\n",
       "    <tr>\n",
       "      <th>0</th>\n",
       "      <td>Iraq</td>\n",
       "      <td>1</td>\n",
       "      <td>164</td>\n",
       "      <td>270</td>\n",
       "      <td>0.607407</td>\n",
       "    </tr>\n",
       "    <tr>\n",
       "      <th>1</th>\n",
       "      <td>Afghanistan</td>\n",
       "      <td>1</td>\n",
       "      <td>49</td>\n",
       "      <td>140</td>\n",
       "      <td>0.350000</td>\n",
       "    </tr>\n",
       "    <tr>\n",
       "      <th>6</th>\n",
       "      <td>India</td>\n",
       "      <td>1</td>\n",
       "      <td>25</td>\n",
       "      <td>109</td>\n",
       "      <td>0.229358</td>\n",
       "    </tr>\n",
       "    <tr>\n",
       "      <th>4</th>\n",
       "      <td>Somalia</td>\n",
       "      <td>1</td>\n",
       "      <td>32</td>\n",
       "      <td>90</td>\n",
       "      <td>0.355556</td>\n",
       "    </tr>\n",
       "    <tr>\n",
       "      <th>3</th>\n",
       "      <td>Pakistan</td>\n",
       "      <td>1</td>\n",
       "      <td>38</td>\n",
       "      <td>85</td>\n",
       "      <td>0.447059</td>\n",
       "    </tr>\n",
       "    <tr>\n",
       "      <th>2</th>\n",
       "      <td>Thailand</td>\n",
       "      <td>1</td>\n",
       "      <td>48</td>\n",
       "      <td>76</td>\n",
       "      <td>0.631579</td>\n",
       "    </tr>\n",
       "    <tr>\n",
       "      <th>7</th>\n",
       "      <td>Philippines</td>\n",
       "      <td>1</td>\n",
       "      <td>22</td>\n",
       "      <td>73</td>\n",
       "      <td>0.301370</td>\n",
       "    </tr>\n",
       "    <tr>\n",
       "      <th>14</th>\n",
       "      <td>Nigeria</td>\n",
       "      <td>1</td>\n",
       "      <td>3</td>\n",
       "      <td>52</td>\n",
       "      <td>0.057692</td>\n",
       "    </tr>\n",
       "    <tr>\n",
       "      <th>5</th>\n",
       "      <td>Nepal</td>\n",
       "      <td>1</td>\n",
       "      <td>30</td>\n",
       "      <td>41</td>\n",
       "      <td>0.731707</td>\n",
       "    </tr>\n",
       "    <tr>\n",
       "      <th>10</th>\n",
       "      <td>Egypt</td>\n",
       "      <td>1</td>\n",
       "      <td>10</td>\n",
       "      <td>30</td>\n",
       "      <td>0.333333</td>\n",
       "    </tr>\n",
       "  </tbody>\n",
       "</table>\n",
       "</div>"
      ],
      "text/plain": [
       "        country  explosive_dummy  explosive_count  total_count  \\\n",
       "0          Iraq                1              164          270   \n",
       "1   Afghanistan                1               49          140   \n",
       "6         India                1               25          109   \n",
       "4       Somalia                1               32           90   \n",
       "3      Pakistan                1               38           85   \n",
       "2      Thailand                1               48           76   \n",
       "7   Philippines                1               22           73   \n",
       "14      Nigeria                1                3           52   \n",
       "5         Nepal                1               30           41   \n",
       "10        Egypt                1               10           30   \n",
       "\n",
       "    explosive / total  \n",
       "0            0.607407  \n",
       "1            0.350000  \n",
       "6            0.229358  \n",
       "4            0.355556  \n",
       "3            0.447059  \n",
       "2            0.631579  \n",
       "7            0.301370  \n",
       "14           0.057692  \n",
       "5            0.731707  \n",
       "10           0.333333  "
      ]
     },
     "execution_count": 16,
     "metadata": {},
     "output_type": "execute_result"
    }
   ],
   "source": [
    "full_count[\"explosive / total\"] = full_count[\"explosive_count\"] / full_count[\"total_count\"]\n",
    "full_count.sort_values(by='total_count', ascending=False)[:10]"
   ]
  },
  {
   "cell_type": "code",
   "execution_count": 17,
   "metadata": {},
   "outputs": [
    {
     "data": {
      "text/plain": [
       "0.40450613531384433"
      ]
     },
     "execution_count": 17,
     "metadata": {},
     "output_type": "execute_result"
    }
   ],
   "source": [
    "np.mean(full_count.sort_values(by='total_count', ascending=False)[:10][\"explosive / total\"])"
   ]
  },
  {
   "cell_type": "markdown",
   "metadata": {},
   "source": [
    "The table above might be an evidence to state that Tailand in comparison to Iraq and Afghanistan, has higher proportion of explosive events in the total occurances (denoted as ratio). We can also observe that comparing to the mean ratio of the countries which have the 10 highest occurances (0.4045), Iraq, Tailand, Nepal have significant higher ratio and India, Nigeria have lower than average ratio of explosive events. These information is valuable to distinguish the types of torrerist events happening in specific regions. It should be considered as an important clue to track the difference in regional characteristis which are related to this difference in ratio."
   ]
  },
  {
   "cell_type": "code",
   "execution_count": 18,
   "metadata": {},
   "outputs": [
    {
     "data": {
      "text/plain": [
       "country      explosive_dummy\n",
       "Iraq         1                  73\n",
       "             0                  47\n",
       "Afghanistan  1                  34\n",
       "Somalia      0                  31\n",
       "India        0                  25\n",
       "Pakistan     1                  21\n",
       "Nepal        1                  20\n",
       "Thailand     1                  19\n",
       "Philippines  1                  17\n",
       "Somalia      1                  16\n",
       "dtype: int64"
      ]
     },
     "execution_count": 18,
     "metadata": {},
     "output_type": "execute_result"
    }
   ],
   "source": [
    "data[data[\"weapdetail\"].notnull()].groupby([\"country\", \"explosive_dummy\"]).size().sort_values(ascending=False)[:10]"
   ]
  },
  {
   "cell_type": "markdown",
   "metadata": {},
   "source": [
    "In the above table, we can discover the brief summary of weapen type in explosive events within countries"
   ]
  },
  {
   "cell_type": "markdown",
   "metadata": {},
   "source": [
    "3. Brief Analysis of the sources\n",
    "\n",
    "Despite the fact that I also care about the source of the data for the events, which is important for checking the creditability of the data. However, using \"police\" and \"press\" in the regular expression search is not sufficient to provide valid categories of the source since they might be written in more implicit and indirect ways."
   ]
  },
  {
   "cell_type": "code",
   "execution_count": 19,
   "metadata": {},
   "outputs": [],
   "source": [
    "data[\"police_source_dummy\"] = data.apply(lambda x: 1 if re.findall(\"([Pp]olice)\", x[\"source\"]) != [] else 0, axis=1)\n",
    "data[\"press_dummy\"] = data.apply(lambda x: 1 if re.findall(\"([Pp]ress)\", x[\"source\"]) != [] else 0, axis=1)"
   ]
  },
  {
   "cell_type": "code",
   "execution_count": 20,
   "metadata": {},
   "outputs": [
    {
     "data": {
      "text/plain": [
       "police_source_dummy\n",
       "0    1165\n",
       "1      90\n",
       "dtype: int64"
      ]
     },
     "execution_count": 20,
     "metadata": {},
     "output_type": "execute_result"
    }
   ],
   "source": [
    "data.groupby(\"police_source_dummy\").size()"
   ]
  },
  {
   "cell_type": "code",
   "execution_count": 21,
   "metadata": {},
   "outputs": [
    {
     "data": {
      "text/plain": [
       "press_dummy\n",
       "0    1116\n",
       "1     139\n",
       "dtype: int64"
      ]
     },
     "execution_count": 21,
     "metadata": {},
     "output_type": "execute_result"
    }
   ],
   "source": [
    "data.groupby(\"press_dummy\").size()"
   ]
  },
  {
   "cell_type": "code",
   "execution_count": 22,
   "metadata": {},
   "outputs": [
    {
     "data": {
      "text/plain": [
       "'\"Hosted Product: Libya Press Review Security Terrorism Arabic Sources June 6, 201,\" Libya Foreign and Domestic Affairs Digest, June 6, 2017.'"
      ]
     },
     "execution_count": 22,
     "metadata": {},
     "output_type": "execute_result"
    }
   ],
   "source": [
    "data[\"source\"][0]"
   ]
  },
  {
   "cell_type": "markdown",
   "metadata": {},
   "source": [
    "Without the time limit, I will like to explore the detail categories of the type of events with more specified and detail search with regular expression methods. Incorporated with data of regional characteristics, the data of the frequency, count, and , ratio may be informative in providing features in machine learning training in the future. Moreover, since the time interval of the data is very short, it is expected to be very sensitive to series of event happening in that period. In order to validate and depict more general patterns of the terrorism events, I will like to analysis the Global Terrorism Database with longer time span."
   ]
  },
  {
   "cell_type": "code",
   "execution_count": null,
   "metadata": {},
   "outputs": [],
   "source": []
  }
 ],
 "metadata": {
  "kernelspec": {
   "display_name": "Python [conda env:py3.5]",
   "language": "python",
   "name": "conda-env-py3.5-py"
  },
  "language_info": {
   "codemirror_mode": {
    "name": "ipython",
    "version": 3
   },
   "file_extension": ".py",
   "mimetype": "text/x-python",
   "name": "python",
   "nbconvert_exporter": "python",
   "pygments_lexer": "ipython3",
   "version": "3.5.5"
  }
 },
 "nbformat": 4,
 "nbformat_minor": 2
}
